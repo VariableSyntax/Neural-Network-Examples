{
 "cells": [
  {
   "cell_type": "markdown",
   "metadata": {},
   "source": [
    "## Keras: The High-Level Wrapper"
   ]
  },
  {
   "cell_type": "markdown",
   "metadata": {},
   "source": [
    "Deep Learning frameworks operate at 2 levels of abstractions: Low Level — where mathematical operations and neural network primitives are implemented (TensorFlow, Theano, PyTorch etc.) and High Level — where low level primitives are used to implement neural network abstractions, such as models and layers (Keras)."
   ]
  },
  {
   "cell_type": "markdown",
   "metadata": {},
   "source": [
    "Keras is a wrapper over its backend libraries, which can be TensorFlow or Theano — meaning that if you’re using Keras with TensorFlow backend, you’re running TensorFlow code. Keras takes care a lot of the nitty-gritty details for you, as it’s geared towards neural network technology consumers and is well suited for those practicing data science. It allows for easy and fast prototyping, supports multiple neural network architectures, and runs seamlessly on CPU/GPU. https://keras.io/"
   ]
  },
  {
   "cell_type": "markdown",
   "metadata": {},
   "source": [
    "#### The model output can be simply plotted or using Tensorboard, "
   ]
  },
  {
   "cell_type": "code",
   "execution_count": 1,
   "metadata": {
    "collapsed": true,
    "jupyter": {
     "outputs_hidden": true
    }
   },
   "outputs": [
    {
     "name": "stderr",
     "output_type": "stream",
     "text": [
      "Using TensorFlow backend.\n",
      "/Library/Frameworks/Python.framework/Versions/3.7/lib/python3.7/site-packages/tensorflow/python/framework/dtypes.py:526: FutureWarning: Passing (type, 1) or '1type' as a synonym of type is deprecated; in a future version of numpy, it will be understood as (type, (1,)) / '(1,)type'.\n",
      "  _np_qint8 = np.dtype([(\"qint8\", np.int8, 1)])\n",
      "/Library/Frameworks/Python.framework/Versions/3.7/lib/python3.7/site-packages/tensorflow/python/framework/dtypes.py:527: FutureWarning: Passing (type, 1) or '1type' as a synonym of type is deprecated; in a future version of numpy, it will be understood as (type, (1,)) / '(1,)type'.\n",
      "  _np_quint8 = np.dtype([(\"quint8\", np.uint8, 1)])\n",
      "/Library/Frameworks/Python.framework/Versions/3.7/lib/python3.7/site-packages/tensorflow/python/framework/dtypes.py:528: FutureWarning: Passing (type, 1) or '1type' as a synonym of type is deprecated; in a future version of numpy, it will be understood as (type, (1,)) / '(1,)type'.\n",
      "  _np_qint16 = np.dtype([(\"qint16\", np.int16, 1)])\n",
      "/Library/Frameworks/Python.framework/Versions/3.7/lib/python3.7/site-packages/tensorflow/python/framework/dtypes.py:529: FutureWarning: Passing (type, 1) or '1type' as a synonym of type is deprecated; in a future version of numpy, it will be understood as (type, (1,)) / '(1,)type'.\n",
      "  _np_quint16 = np.dtype([(\"quint16\", np.uint16, 1)])\n",
      "/Library/Frameworks/Python.framework/Versions/3.7/lib/python3.7/site-packages/tensorflow/python/framework/dtypes.py:530: FutureWarning: Passing (type, 1) or '1type' as a synonym of type is deprecated; in a future version of numpy, it will be understood as (type, (1,)) / '(1,)type'.\n",
      "  _np_qint32 = np.dtype([(\"qint32\", np.int32, 1)])\n",
      "/Library/Frameworks/Python.framework/Versions/3.7/lib/python3.7/site-packages/tensorflow/python/framework/dtypes.py:535: FutureWarning: Passing (type, 1) or '1type' as a synonym of type is deprecated; in a future version of numpy, it will be understood as (type, (1,)) / '(1,)type'.\n",
      "  np_resource = np.dtype([(\"resource\", np.ubyte, 1)])\n"
     ]
    }
   ],
   "source": [
    "import keras\n",
    "import numpy as np\n",
    "from keras.models import Sequential\n",
    "from keras.layers.core import Dense, Activation\n",
    "from keras.optimizers import SGD\n",
    "import matplotlib.pyplot as plt\n",
    "from keras.callbacks import TensorBoard\n",
    "from time import time"
   ]
  },
  {
   "cell_type": "markdown",
   "metadata": {},
   "source": [
    "Batch size = 32, Input Dimension = 500, Hidden Dimension = 50"
   ]
  },
  {
   "cell_type": "markdown",
   "metadata": {},
   "source": [
    "Create the model\n",
    "\n",
    "model = Sequential()\n",
    "model.add(Dense(input_dim=500, output_dim=50))\n",
    "model.add(Activation('relu'))\n",
    "model.add(Dense(input_dim=50, output_dim=500))"
   ]
  },
  {
   "cell_type": "code",
   "execution_count": 2,
   "metadata": {},
   "outputs": [
    {
     "name": "stdout",
     "output_type": "stream",
     "text": [
      "WARNING:tensorflow:From /Library/Frameworks/Python.framework/Versions/3.7/lib/python3.7/site-packages/tensorflow/python/framework/op_def_library.py:263: colocate_with (from tensorflow.python.framework.ops) is deprecated and will be removed in a future version.\n",
      "Instructions for updating:\n",
      "Colocations handled automatically by placer.\n"
     ]
    }
   ],
   "source": [
    "model = Sequential()\n",
    "model.add(Dense(units=50, input_dim=500))\n",
    "model.add(Activation('relu'))\n",
    "model.add(Dense(units=500, input_dim=50))"
   ]
  },
  {
   "cell_type": "markdown",
   "metadata": {},
   "source": [
    "Define optimizer object"
   ]
  },
  {
   "cell_type": "code",
   "execution_count": 3,
   "metadata": {},
   "outputs": [],
   "source": [
    "optimizer = SGD(lr=1e0)"
   ]
  },
  {
   "cell_type": "markdown",
   "metadata": {},
   "source": [
    "Compile the model"
   ]
  },
  {
   "cell_type": "code",
   "execution_count": 4,
   "metadata": {},
   "outputs": [],
   "source": [
    "model.compile(loss='mean_squared_error', optimizer=optimizer)"
   ]
  },
  {
   "cell_type": "markdown",
   "metadata": {},
   "source": [
    "Randomize data"
   ]
  },
  {
   "cell_type": "code",
   "execution_count": 12,
   "metadata": {},
   "outputs": [],
   "source": [
    "x = np.random.randn(32, 500)\n",
    "y = np.random.randn(32, 500)"
   ]
  },
  {
   "cell_type": "markdown",
   "metadata": {},
   "source": [
    "### Using Tensorboard to monitor progress"
   ]
  },
  {
   "cell_type": "code",
   "execution_count": 9,
   "metadata": {},
   "outputs": [],
   "source": [
    "# tensorboard = TensorBoard(log_dir=\"logss/{}\".format(time()))"
   ]
  },
  {
   "cell_type": "code",
   "execution_count": 13,
   "metadata": {
    "collapsed": true,
    "jupyter": {
     "outputs_hidden": true
    }
   },
   "outputs": [
    {
     "name": "stdout",
     "output_type": "stream",
     "text": [
      "Epoch 1/50\n",
      "32/32 [==============================] - 0s 231us/step - loss: 1.1874\n",
      "Epoch 2/50\n",
      "32/32 [==============================] - 0s 245us/step - loss: 1.1274\n",
      "Epoch 3/50\n",
      "32/32 [==============================] - 0s 154us/step - loss: 1.0853\n",
      "Epoch 4/50\n",
      "32/32 [==============================] - 0s 122us/step - loss: 1.0551\n",
      "Epoch 5/50\n",
      "32/32 [==============================] - 0s 101us/step - loss: 1.0328\n",
      "Epoch 6/50\n",
      "32/32 [==============================] - 0s 76us/step - loss: 1.0156\n",
      "Epoch 7/50\n",
      "32/32 [==============================] - 0s 110us/step - loss: 1.0023\n",
      "Epoch 8/50\n",
      "32/32 [==============================] - 0s 111us/step - loss: 0.9914\n",
      "Epoch 9/50\n",
      "32/32 [==============================] - 0s 101us/step - loss: 0.9824\n",
      "Epoch 10/50\n",
      "32/32 [==============================] - 0s 109us/step - loss: 0.9745\n",
      "Epoch 11/50\n",
      "32/32 [==============================] - 0s 93us/step - loss: 0.9677\n",
      "Epoch 12/50\n",
      "32/32 [==============================] - 0s 89us/step - loss: 0.9615\n",
      "Epoch 13/50\n",
      "32/32 [==============================] - 0s 138us/step - loss: 0.9559\n",
      "Epoch 14/50\n",
      "32/32 [==============================] - 0s 210us/step - loss: 0.9505\n",
      "Epoch 15/50\n",
      "32/32 [==============================] - 0s 142us/step - loss: 0.9453\n",
      "Epoch 16/50\n",
      "32/32 [==============================] - 0s 109us/step - loss: 0.9402\n",
      "Epoch 17/50\n",
      "32/32 [==============================] - 0s 116us/step - loss: 0.9351\n",
      "Epoch 18/50\n",
      "32/32 [==============================] - 0s 85us/step - loss: 0.9300\n",
      "Epoch 19/50\n",
      "32/32 [==============================] - 0s 62us/step - loss: 0.9249\n",
      "Epoch 20/50\n",
      "32/32 [==============================] - 0s 72us/step - loss: 0.9198\n",
      "Epoch 21/50\n",
      "32/32 [==============================] - 0s 55us/step - loss: 0.9146\n",
      "Epoch 22/50\n",
      "32/32 [==============================] - 0s 64us/step - loss: 0.9093\n",
      "Epoch 23/50\n",
      "32/32 [==============================] - 0s 63us/step - loss: 0.9040\n",
      "Epoch 24/50\n",
      "32/32 [==============================] - 0s 171us/step - loss: 0.8985\n",
      "Epoch 25/50\n",
      "32/32 [==============================] - 0s 269us/step - loss: 0.8929\n",
      "Epoch 26/50\n",
      "32/32 [==============================] - 0s 141us/step - loss: 0.8873\n",
      "Epoch 27/50\n",
      "32/32 [==============================] - 0s 98us/step - loss: 0.8815\n",
      "Epoch 28/50\n",
      "32/32 [==============================] - 0s 90us/step - loss: 0.8756\n",
      "Epoch 29/50\n",
      "32/32 [==============================] - 0s 150us/step - loss: 0.8696\n",
      "Epoch 30/50\n",
      "32/32 [==============================] - 0s 112us/step - loss: 0.8634\n",
      "Epoch 31/50\n",
      "32/32 [==============================] - 0s 126us/step - loss: 0.8571\n",
      "Epoch 32/50\n",
      "32/32 [==============================] - 0s 77us/step - loss: 0.8507\n",
      "Epoch 33/50\n",
      "32/32 [==============================] - 0s 161us/step - loss: 0.8442\n",
      "Epoch 34/50\n",
      "32/32 [==============================] - 0s 166us/step - loss: 0.8374\n",
      "Epoch 35/50\n",
      "32/32 [==============================] - 0s 149us/step - loss: 0.8304\n",
      "Epoch 36/50\n",
      "32/32 [==============================] - 0s 64us/step - loss: 0.8233\n",
      "Epoch 37/50\n",
      "32/32 [==============================] - 0s 81us/step - loss: 0.8161\n",
      "Epoch 38/50\n",
      "32/32 [==============================] - 0s 143us/step - loss: 0.8087\n",
      "Epoch 39/50\n",
      "32/32 [==============================] - 0s 235us/step - loss: 0.8012\n",
      "Epoch 40/50\n",
      "32/32 [==============================] - 0s 53us/step - loss: 0.7936\n",
      "Epoch 41/50\n",
      "32/32 [==============================] - 0s 56us/step - loss: 0.7857\n",
      "Epoch 42/50\n",
      "32/32 [==============================] - 0s 248us/step - loss: 0.7778\n",
      "Epoch 43/50\n",
      "32/32 [==============================] - 0s 69us/step - loss: 0.7697\n",
      "Epoch 44/50\n",
      "32/32 [==============================] - 0s 202us/step - loss: 0.7615\n",
      "Epoch 45/50\n",
      "32/32 [==============================] - 0s 362us/step - loss: 0.7531\n",
      "Epoch 46/50\n",
      "32/32 [==============================] - 0s 120us/step - loss: 0.7447\n",
      "Epoch 47/50\n",
      "32/32 [==============================] - 0s 79us/step - loss: 0.7361\n",
      "Epoch 48/50\n",
      "32/32 [==============================] - 0s 96us/step - loss: 0.7273\n",
      "Epoch 49/50\n",
      "32/32 [==============================] - 0s 132us/step - loss: 0.7185\n",
      "Epoch 50/50\n",
      "32/32 [==============================] - 0s 211us/step - loss: 0.7095\n"
     ]
    }
   ],
   "source": [
    "# summary = model.fit(x, y, epochs=50, batch_size=64, verbose=1, callbacks=[tensorboard])\n",
    "summary = model.fit(x, y, epochs=50, batch_size=64, verbose=1)\n",
    "# tensorboard --logdir=./logss/ \n",
    "# localhost:6006"
   ]
  },
  {
   "cell_type": "markdown",
   "metadata": {},
   "source": [
    "### Alternatively, fit the model and plot the loss"
   ]
  },
  {
   "cell_type": "code",
   "execution_count": null,
   "metadata": {
    "collapsed": true,
    "jupyter": {
     "outputs_hidden": true
    }
   },
   "outputs": [],
   "source": [
    "# summary = model.fit(x, y, epochs=50, batch_size=64, verbose=0) # verbose=1"
   ]
  },
  {
   "cell_type": "markdown",
   "metadata": {},
   "source": [
    "In this example doing similar neural network training as above, I first define the model object as a sequence of layers, then define the optimizer object. Next, I build the model, specify loss function, and train the model with a single ‘fit’ line."
   ]
  },
  {
   "cell_type": "markdown",
   "metadata": {},
   "source": [
    "list all data in summary"
   ]
  },
  {
   "cell_type": "code",
   "execution_count": 7,
   "metadata": {},
   "outputs": [
    {
     "name": "stdout",
     "output_type": "stream",
     "text": [
      "dict_keys(['loss'])\n"
     ]
    }
   ],
   "source": [
    "print(summary.history.keys())"
   ]
  },
  {
   "cell_type": "code",
   "execution_count": 9,
   "metadata": {},
   "outputs": [
    {
     "name": "stdout",
     "output_type": "stream",
     "text": [
      "<class 'keras.callbacks.History'>\n"
     ]
    }
   ],
   "source": [
    "print (type(summary))"
   ]
  },
  {
   "cell_type": "markdown",
   "metadata": {},
   "source": [
    "summarize history for loss"
   ]
  },
  {
   "cell_type": "code",
   "execution_count": 14,
   "metadata": {},
   "outputs": [
    {
     "data": {
      "image/png": "[encoded data removed]",
      "text/plain": [
       "<Figure size 432x288 with 1 Axes>"
      ]
     },
     "metadata": {},
     "output_type": "display_data"
    }
   ],
   "source": [
    "plt.plot(summary.history['loss'])\n",
    "plt.title('model loss')\n",
    "plt.ylabel('loss')\n",
    "plt.xlabel('epoch')\n",
    "plt.show()"
   ]
  },
  {
   "cell_type": "code",
   "execution_count": null,
   "metadata": {
    "collapsed": true,
    "jupyter": {
     "outputs_hidden": true
    }
   },
   "outputs": [],
   "source": []
  }
 ],
 "metadata": {
  "kernelspec": {
   "display_name": "Python 3",
   "language": "python",
   "name": "python3"
  },
  "language_info": {
   "codemirror_mode": {
    "name": "ipython",
    "version": 3
   },
   "file_extension": ".py",
   "mimetype": "text/x-python",
   "name": "python",
   "nbconvert_exporter": "python",
   "pygments_lexer": "ipython3",
   "version": "3.7.3"
  }
 },
 "nbformat": 4,
 "nbformat_minor": 4
}
